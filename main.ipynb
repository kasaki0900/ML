{
 "cells": [
  {
   "cell_type": "code",
   "execution_count": 2,
   "id": "initial_id",
   "metadata": {
    "collapsed": true,
    "ExecuteTime": {
     "end_time": "2023-09-17T03:18:25.640939100Z",
     "start_time": "2023-09-17T03:18:19.702280200Z"
    }
   },
   "outputs": [],
   "source": [
    "import torch\n",
    "from torch import nn\n",
    "from torch import tensor\n",
    "from matplotlib import pyplot as plt\n",
    "import pandas as pd\n",
    "from torch.nn import functional as f\n",
    "\n",
    "from torchvision import datasets, transforms\n"
   ]
  },
  {
   "cell_type": "code",
   "execution_count": 3,
   "outputs": [],
   "source": [
    "mnist_data = datasets.MNIST(\n",
    "    root='',\n",
    "    train=True, \n",
    "    transform=transforms.ToTensor(), \n",
    "    download=True\n",
    ")"
   ],
   "metadata": {
    "collapsed": false,
    "ExecuteTime": {
     "end_time": "2023-09-17T03:18:26.981781500Z",
     "start_time": "2023-09-17T03:18:26.929065100Z"
    }
   },
   "id": "29253d6dee9a8677"
  },
  {
   "cell_type": "code",
   "execution_count": 4,
   "outputs": [
    {
     "name": "stdout",
     "output_type": "stream",
     "text": [
      "Dataset MNIST\n",
      "    Number of datapoints: 60000\n",
      "    Root location: \n",
      "    Split: Train\n",
      "    StandardTransform\n",
      "Transform: ToTensor()\n",
      "Size:  60000\n"
     ]
    }
   ],
   "source": [
    "print(mnist_data)\n",
    "print('Size: ', len(mnist_data))"
   ],
   "metadata": {
    "collapsed": false,
    "ExecuteTime": {
     "end_time": "2023-09-17T03:18:27.621263100Z",
     "start_time": "2023-09-17T03:18:27.614267200Z"
    }
   },
   "id": "affec3a449ed9173"
  },
  {
   "cell_type": "code",
   "execution_count": 7,
   "outputs": [],
   "source": [
    "x_train = mnist_data.train_data\n",
    "y_train = mnist_data.train_labels\n",
    "\n",
    "x_test = mnist_data.test_data\n",
    "y_test = mnist_data.test_labels"
   ],
   "metadata": {
    "collapsed": false,
    "ExecuteTime": {
     "end_time": "2023-09-17T03:18:34.887899800Z",
     "start_time": "2023-09-17T03:18:34.881898500Z"
    }
   },
   "id": "c4b144d399196e56"
  },
  {
   "cell_type": "code",
   "execution_count": 207,
   "outputs": [],
   "source": [
    "def reshape(x):\n",
    "    squeezed = x.clone().detach()\n",
    "    data_shape = squeezed.shape\n",
    "    \n",
    "    data_size = data_shape[0]\n",
    "    squeezed.resize_(data_size, data_shape[1]*data_shape[2])     \n",
    "        \n",
    "    squeezed.request_grad = True\n",
    "    \n",
    "    return squeezed\n",
    "\n",
    "\n",
    "def one_hot(y, classes=10):\n",
    "    return f.one_hot(y, num_classes=classes)\n",
    "\n",
    "\n",
    "def de_one_hot(y):\n",
    "    return torch.argmax(y, dim=1)\n",
    "\n",
    "\n",
    "def batch_partition(x, y, batch_size=10000):\n",
    "    cache = {}\n",
    "    batches_x = []\n",
    "    batches_y = []\n",
    "    \n",
    "    set_size = x.shape[0]\n",
    "    n = set_size // batch_size\n",
    "    leftover = set_size % n\n",
    "    \n",
    "    \n",
    "    for i in range(n):\n",
    "        batches_x.append(x[i:batch_size*(i+1), :])\n",
    "        batches_y.append(y[i:batch_size*(i+1), :])\n",
    "    if leftover:\n",
    "        batches_x.append(x[batch_size*n:, :])\n",
    "        batches_y.append(y[batch_size*n:, :])\n",
    "    \n",
    "    cache['batch_x'] = batches_x\n",
    "    cache['batch_y'] = batches_y\n",
    "    cache['batch_num'] = n + (1 if leftover else 0)\n",
    "    \n",
    "    return cache "
   ],
   "metadata": {
    "collapsed": false,
    "ExecuteTime": {
     "end_time": "2023-09-17T04:18:10.002933Z",
     "start_time": "2023-09-17T04:18:09.997932900Z"
    }
   },
   "id": "b5ea3080f091c610"
  },
  {
   "cell_type": "code",
   "execution_count": 208,
   "outputs": [],
   "source": [
    "x_train_squeezed = reshape(x_train).float()\n",
    "x_test_squeezed = reshape(x_test).float()\n",
    "\n",
    "y_train_onehot = one_hot(y_train).float()\n",
    "\n",
    "batch_cache = batch_partition(x_train_squeezed, y_train_onehot)"
   ],
   "metadata": {
    "collapsed": false,
    "ExecuteTime": {
     "end_time": "2023-09-17T04:18:10.625190200Z",
     "start_time": "2023-09-17T04:18:10.583977300Z"
    }
   },
   "id": "c905038a030048ee"
  },
  {
   "cell_type": "code",
   "execution_count": 213,
   "outputs": [],
   "source": [
    "class MnistDistinguish(nn.Module):\n",
    "    def __init__(self, input_size, hidden_size, output_size, *args, **kwargs):\n",
    "        super().__init__(*args, **kwargs)\n",
    "        self.fc1 = nn.Linear(input_size, hidden_size)\n",
    "        self.act1 = f.relu\n",
    "        self.fc2 = nn.Linear(hidden_size, output_size)\n",
    "        self.act2 = nn.Softmax(dim=-1)\n",
    "        \n",
    "    def forward(self, x):\n",
    "        out1 = self.act1(self.fc1(x))\n",
    "        out2 = f.dropout(out1, training=self.training)\n",
    "        out = self.act2(self.fc2(out2))\n",
    "        \n",
    "        return out\n",
    "    \n",
    "    \n",
    "def create_model(input_size, hidden_size, output_size, learning_rate=0.05):\n",
    "    cache = {}\n",
    "    model = MnistDistinguish(input_size, hidden_size, output_size)\n",
    "    cost = f.cross_entropy\n",
    "    optimizer = torch.optim.SGD(model.parameters(), lr=learning_rate)\n",
    "    \n",
    "    cache['model'] = model\n",
    "    cache['cost'] = cost\n",
    "    cache['optimizer'] = optimizer\n",
    "    \n",
    "    return cache\n",
    "    \n",
    "\n",
    "def batch_training(model_cache, batch_cache, epochs=20):\n",
    "    model = model_cache['model']\n",
    "    cost = model_cache['cost']\n",
    "    optimizer = model_cache['optimizer']\n",
    "    \n",
    "    batch_x = batch_cache['batch_x']\n",
    "    batch_y = batch_cache['batch_y']\n",
    "    batch_num = batch_cache['batch_num']\n",
    "    \n",
    "    for j in range(batch_num):\n",
    "        x = batch_x[j]\n",
    "        y = batch_y[j]\n",
    "        for i in range(epochs):\n",
    "            out = model(x)\n",
    "            loss = cost(out, y)\n",
    "            optimizer.zero_grad()\n",
    "            \n",
    "            loss.backward()\n",
    "            optimizer.step()\n",
    "            \n",
    "            if not i % 20:\n",
    "                print('batch ', j + 1, ' epoch ', i, ', loss: ', round(loss.item(), 4))\n",
    "            \n",
    "\n",
    "def testing(model, x, y):\n",
    "    test_size = len(y)\n",
    "    model.eval()\n",
    "    with torch.no_grad():\n",
    "        pred = de_one_hot(model(x))\n",
    "        \n",
    "        exact = torch.sum(torch.eq(pred, y)).item()\n",
    "        exact_rate = exact / test_size\n",
    "        \n",
    "        return exact_rate\n",
    "    \n",
    "    \n",
    "def recognizing(model, x):\n",
    "    model.eval()\n",
    "    with torch.no_grad():\n",
    "        out = model.forward(x)\n",
    "        value = torch.argmax(out).item()\n",
    "    return value"
   ],
   "metadata": {
    "collapsed": false,
    "ExecuteTime": {
     "end_time": "2023-09-17T04:22:04.491715200Z",
     "start_time": "2023-09-17T04:22:04.485719300Z"
    }
   },
   "id": "8d3b41b13364eb94"
  },
  {
   "cell_type": "code",
   "execution_count": 214,
   "outputs": [
    {
     "name": "stdout",
     "output_type": "stream",
     "text": [
      "batch  1  epoch  0 , loss:  2.3569\n",
      "batch  2  epoch  0 , loss:  1.7751\n",
      "batch  3  epoch  0 , loss:  1.694\n",
      "batch  4  epoch  0 , loss:  1.6439\n",
      "batch  5  epoch  0 , loss:  1.6109\n",
      "batch  6  epoch  0 , loss:  1.5956\n"
     ]
    }
   ],
   "source": [
    "model_cache = create_model(x_train_squeezed.shape[1], 128, 10)\n",
    "batch_training(model_cache, batch_cache)"
   ],
   "metadata": {
    "collapsed": false,
    "ExecuteTime": {
     "end_time": "2023-09-17T04:22:14.636331300Z",
     "start_time": "2023-09-17T04:22:05.014926800Z"
    }
   },
   "id": "f57bda4fbeb1e7b7"
  },
  {
   "cell_type": "code",
   "execution_count": 215,
   "outputs": [
    {
     "data": {
      "text/plain": "0.9200833333333334"
     },
     "execution_count": 215,
     "metadata": {},
     "output_type": "execute_result"
    }
   ],
   "source": [
    "testing(model_cache['model'], x_test_squeezed, y_test)"
   ],
   "metadata": {
    "collapsed": false,
    "ExecuteTime": {
     "end_time": "2023-09-17T04:22:16.037020500Z",
     "start_time": "2023-09-17T04:22:15.990024Z"
    }
   },
   "id": "8baffd903ea3ff60"
  },
  {
   "cell_type": "code",
   "execution_count": 232,
   "outputs": [
    {
     "name": "stdout",
     "output_type": "stream",
     "text": [
      "y10 is  1\n"
     ]
    },
    {
     "data": {
      "text/plain": "<Figure size 640x480 with 1 Axes>",
      "image/png": "[encoded data removed]"
     },
     "metadata": {},
     "output_type": "display_data"
    }
   ],
   "source": [
    "image = x_test[70]\n",
    "data = x_test_squeezed[70]\n",
    "print('y10 is ', y_test[70].item())\n",
    "\n",
    "plt.imshow(image, cmap='gray')\n",
    "plt.show()"
   ],
   "metadata": {
    "collapsed": false,
    "ExecuteTime": {
     "end_time": "2023-09-17T04:24:07.227396100Z",
     "start_time": "2023-09-17T04:24:07.152152500Z"
    }
   },
   "id": "5ca3456bee698bda"
  },
  {
   "cell_type": "code",
   "execution_count": 234,
   "outputs": [
    {
     "data": {
      "text/plain": "2"
     },
     "execution_count": 234,
     "metadata": {},
     "output_type": "execute_result"
    }
   ],
   "source": [
    "recognizing(model_cache['model'], data)"
   ],
   "metadata": {
    "collapsed": false,
    "ExecuteTime": {
     "end_time": "2023-09-17T04:24:09.891396800Z",
     "start_time": "2023-09-17T04:24:09.883398500Z"
    }
   },
   "id": "7769bf1739704ddb"
  },
  {
   "cell_type": "code",
   "execution_count": null,
   "outputs": [],
   "source": [],
   "metadata": {
    "collapsed": false
   },
   "id": "1b2fe175883b3949"
  }
 ],
 "metadata": {
  "kernelspec": {
   "display_name": "Python 3",
   "language": "python",
   "name": "python3"
  },
  "language_info": {
   "codemirror_mode": {
    "name": "ipython",
    "version": 2
   },
   "file_extension": ".py",
   "mimetype": "text/x-python",
   "name": "python",
   "nbconvert_exporter": "python",
   "pygments_lexer": "ipython2",
   "version": "2.7.6"
  }
 },
 "nbformat": 4,
 "nbformat_minor": 5
}
